{
  "nbformat": 4,
  "nbformat_minor": 0,
  "metadata": {
    "colab": {
      "private_outputs": true,
      "provenance": []
    },
    "kernelspec": {
      "name": "python3",
      "display_name": "Python 3"
    },
    "language_info": {
      "name": "python"
    }
  },
  "cells": [
    {
      "cell_type": "code",
      "execution_count": null,
      "metadata": {
        "id": "IH3SX3Swiabk"
      },
      "outputs": [],
      "source": [
        "import matplotlib.pyplot as plt\n",
        "import seaborn as sns\n",
        "import pandas as pd\n",
        "import numpy as np"
      ]
    },
    {
      "cell_type": "code",
      "source": [
        "df = pd.read_csv('movies_credits_2.csv', sep = ',')"
      ],
      "metadata": {
        "id": "dzm_lziriieX"
      },
      "execution_count": null,
      "outputs": []
    },
    {
      "cell_type": "code",
      "source": [
        "df.info()"
      ],
      "metadata": {
        "id": "R1wYqTpCjTgh"
      },
      "execution_count": null,
      "outputs": []
    },
    {
      "cell_type": "code",
      "source": [
        "# Eliminar la columna \"Unnamed: 0\"\n",
        "df = df.drop(df.columns[20], axis=1)"
      ],
      "metadata": {
        "id": "CHnWtUkPjWBr"
      },
      "execution_count": null,
      "outputs": []
    },
    {
      "cell_type": "code",
      "source": [
        "# Eliminaré algunas columnas que no necesitaré para el estudio estadistico.\n",
        "\n",
        "df.describe()"
      ],
      "metadata": {
        "id": "PfZDcWJhjW2k"
      },
      "execution_count": null,
      "outputs": []
    },
    {
      "cell_type": "code",
      "source": [
        "# Outliers\n",
        "\n",
        "cols_num = ['budget','popularity','revenue','runtime','vote_average', 'vote_count','return']"
      ],
      "metadata": {
        "id": "HYNHzeEAjbAf"
      },
      "execution_count": null,
      "outputs": []
    },
    {
      "cell_type": "code",
      "source": [
        "fig, ax = plt.subplots(nrows = 7, ncols = 1 , figsize = (8,30))\n",
        "fig.subplots_adjust(hspace = 0.5)\n",
        "for i, col in enumerate(cols_num):\n",
        "     df[col] = pd.to_numeric(df[col], errors='coerce')  # Convertir la columna a tipo numérico\n",
        "     sns.boxplot(x = col, data = df, ax = ax[i])\n",
        "     ax[i].set_title(col)"
      ],
      "metadata": {
        "id": "7a2dlUFXjfbL"
      },
      "execution_count": null,
      "outputs": []
    },
    {
      "cell_type": "code",
      "source": [
        "# Obtenemos valores fuera del rango, pero que en el caso del budget puede perfectamente haber películas que hayan superado el presupuesto esperado\n",
        "# En el caso de popuaridad tampoco es medibel ya que muchas películas pueden superar las expectativa,lo mismo sucede con las ganancias, vote_average\n",
        "#(que los votos muchas veces las personas no son sinceras y puede haber resultados que no son los esperados)y vote_count\""
      ],
      "metadata": {
        "id": "Rp-h7g8EjnVL"
      },
      "execution_count": null,
      "outputs": []
    },
    {
      "cell_type": "code",
      "source": [
        "import matplotlib.pyplot as plt\n",
        "\n",
        "# Realizo un diagrama de dispersión teniendo en cuenta el número de votos (que fue el que tuvimos en cuenta cuando hicimos la función def\n",
        "# voto_titulo).Vemos que hay unos outliers, pero debemos considerar que altos presupuestos muchas veces no va de la mano con las ganancias.\n",
        "fig = plt.figure()\n",
        "ax = plt.axes()\n",
        "\n",
        "budget =df[df.vote_count.values>= 2000]['budget']\n",
        "revenue = df[df.vote_count.values>= 2000]['revenue']\n",
        "ax.scatter(budget, revenue)\n",
        "ax.set(xlabel='budget', ylabel='revenue', title='Budget vs Revenue')\n",
        "plt.show()"
      ],
      "metadata": {
        "id": "FPMa0OCfj0Ho"
      },
      "execution_count": null,
      "outputs": []
    },
    {
      "cell_type": "code",
      "source": [
        "# Graficamos  el retorno en función del año de lanzamiento\n",
        "plt.figure(figsize=(12, 6))\n",
        "plt.scatter(df['release_year'], df['return'])\n",
        "plt.xlabel('Año de lanzamiento')\n",
        "plt.ylabel('Retorno')\n",
        "plt.title('Retorno en función del año de lanzamiento')\n",
        "plt.show()"
      ],
      "metadata": {
        "id": "AWbgM-sKj2sg"
      },
      "execution_count": null,
      "outputs": []
    },
    {
      "cell_type": "code",
      "source": [
        "# Graficamos el retorno según la popularidad\n",
        "fig = plt.figure()\n",
        "ax = plt.axes()\n",
        "\n",
        "revenue = df[df.vote_count.values>= 2000]['revenue']\n",
        "popularity =df[df.vote_count.values>= 2000]['popularity']\n",
        "\n",
        "ax.scatter(budget, revenue)\n",
        "ax.set(xlabel='revenue', ylabel='popularity', title='Revenu vs Popularity')\n",
        "plt.show()\n"
      ],
      "metadata": {
        "id": "HcKE3RBaj4xX"
      },
      "execution_count": null,
      "outputs": []
    },
    {
      "cell_type": "code",
      "source": [
        "# Matiz de correlación, teniendo en cuenta algunas variables\n",
        "#  Seleccionp las columnas relevantes\n",
        "variables = df[['budget', 'popularity','revenue', 'vote_average', 'vote_count','return']]\n",
        "\n",
        "# Calcular la matriz de correlación\\n\",\n",
        "correlation_matrix = variables.corr()\n",
        "print(correlation_matrix)\n",
        ""
      ],
      "metadata": {
        "id": "YChNJxtBj9NX"
      },
      "execution_count": null,
      "outputs": []
    },
    {
      "cell_type": "code",
      "source": [
        "sns.heatmap(correlation_matrix, annot=True, cmap='coolwarm')\n",
        "plt.title('Matriz de Correlación')\n",
        "plt.show()\n",
        "\n",
        "# Vemos una correlación negativa débil entre budget y return, o sea que a medida que disminuye budget, disminuyt return. Sin embargo una\n",
        "# correlación negativa débil, no implica una relación causal directa. Debemos tener en cuenta que puede haber otros factores involucrados que\n",
        "# influyen en return además del budget. Al ser una magnitud negativa débil,nos sugiere que la relación entre budget y return puede no ser tan\n",
        "# significativa. Y así haríamos con todas las variables."
      ],
      "metadata": {
        "id": "rJ0Bz9wqkAI8"
      },
      "execution_count": null,
      "outputs": []
    }
  ]
}