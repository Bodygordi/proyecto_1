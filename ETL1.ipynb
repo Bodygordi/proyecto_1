{
  "cells": [
    {
      "cell_type": "code",
      "execution_count": 1,
      "metadata": {
        "id": "MVZpbaIlVBIW"
      },
      "outputs": [],
      "source": [
        "import pandas as pd\n",
        "import numpy as np\n",
        "import json"
      ]
    },
    {
      "cell_type": "code",
      "execution_count": 2,
      "metadata": {
        "id": "fB72vcRNDNaP"
      },
      "outputs": [
        {
          "name": "stderr",
          "output_type": "stream",
          "text": [
            "C:\\Users\\nicon\\AppData\\Local\\Temp\\ipykernel_20284\\2821601462.py:1: DtypeWarning: Columns (10) have mixed types. Specify dtype option on import or set low_memory=False.\n",
            "  df_credits = pd.read_csv(\"movies_dataset.csv\")\n"
          ]
        },
        {
          "data": {
            "text/html": [
              "<div>\n",
              "<style scoped>\n",
              "    .dataframe tbody tr th:only-of-type {\n",
              "        vertical-align: middle;\n",
              "    }\n",
              "\n",
              "    .dataframe tbody tr th {\n",
              "        vertical-align: top;\n",
              "    }\n",
              "\n",
              "    .dataframe thead th {\n",
              "        text-align: right;\n",
              "    }\n",
              "</style>\n",
              "<table border=\"1\" class=\"dataframe\">\n",
              "  <thead>\n",
              "    <tr style=\"text-align: right;\">\n",
              "      <th></th>\n",
              "      <th>adult</th>\n",
              "      <th>belongs_to_collection</th>\n",
              "      <th>budget</th>\n",
              "      <th>genres</th>\n",
              "      <th>homepage</th>\n",
              "      <th>id</th>\n",
              "      <th>imdb_id</th>\n",
              "      <th>original_language</th>\n",
              "      <th>original_title</th>\n",
              "      <th>overview</th>\n",
              "      <th>...</th>\n",
              "      <th>release_date</th>\n",
              "      <th>revenue</th>\n",
              "      <th>runtime</th>\n",
              "      <th>spoken_languages</th>\n",
              "      <th>status</th>\n",
              "      <th>tagline</th>\n",
              "      <th>title</th>\n",
              "      <th>video</th>\n",
              "      <th>vote_average</th>\n",
              "      <th>vote_count</th>\n",
              "    </tr>\n",
              "  </thead>\n",
              "  <tbody>\n",
              "    <tr>\n",
              "      <th>0</th>\n",
              "      <td>False</td>\n",
              "      <td>{'id': 10194, 'name': 'Toy Story Collection', ...</td>\n",
              "      <td>30000000</td>\n",
              "      <td>[{'id': 16, 'name': 'Animation'}, {'id': 35, '...</td>\n",
              "      <td>http://toystory.disney.com/toy-story</td>\n",
              "      <td>862</td>\n",
              "      <td>tt0114709</td>\n",
              "      <td>en</td>\n",
              "      <td>Toy Story</td>\n",
              "      <td>Led by Woody, Andy's toys live happily in his ...</td>\n",
              "      <td>...</td>\n",
              "      <td>1995-10-30</td>\n",
              "      <td>373554033.0</td>\n",
              "      <td>81.0</td>\n",
              "      <td>[{'iso_639_1': 'en', 'name': 'English'}]</td>\n",
              "      <td>Released</td>\n",
              "      <td>NaN</td>\n",
              "      <td>Toy Story</td>\n",
              "      <td>False</td>\n",
              "      <td>7.7</td>\n",
              "      <td>5415.0</td>\n",
              "    </tr>\n",
              "    <tr>\n",
              "      <th>1</th>\n",
              "      <td>False</td>\n",
              "      <td>NaN</td>\n",
              "      <td>65000000</td>\n",
              "      <td>[{'id': 12, 'name': 'Adventure'}, {'id': 14, '...</td>\n",
              "      <td>NaN</td>\n",
              "      <td>8844</td>\n",
              "      <td>tt0113497</td>\n",
              "      <td>en</td>\n",
              "      <td>Jumanji</td>\n",
              "      <td>When siblings Judy and Peter discover an encha...</td>\n",
              "      <td>...</td>\n",
              "      <td>1995-12-15</td>\n",
              "      <td>262797249.0</td>\n",
              "      <td>104.0</td>\n",
              "      <td>[{'iso_639_1': 'en', 'name': 'English'}, {'iso...</td>\n",
              "      <td>Released</td>\n",
              "      <td>Roll the dice and unleash the excitement!</td>\n",
              "      <td>Jumanji</td>\n",
              "      <td>False</td>\n",
              "      <td>6.9</td>\n",
              "      <td>2413.0</td>\n",
              "    </tr>\n",
              "    <tr>\n",
              "      <th>2</th>\n",
              "      <td>False</td>\n",
              "      <td>{'id': 119050, 'name': 'Grumpy Old Men Collect...</td>\n",
              "      <td>0</td>\n",
              "      <td>[{'id': 10749, 'name': 'Romance'}, {'id': 35, ...</td>\n",
              "      <td>NaN</td>\n",
              "      <td>15602</td>\n",
              "      <td>tt0113228</td>\n",
              "      <td>en</td>\n",
              "      <td>Grumpier Old Men</td>\n",
              "      <td>A family wedding reignites the ancient feud be...</td>\n",
              "      <td>...</td>\n",
              "      <td>1995-12-22</td>\n",
              "      <td>0.0</td>\n",
              "      <td>101.0</td>\n",
              "      <td>[{'iso_639_1': 'en', 'name': 'English'}]</td>\n",
              "      <td>Released</td>\n",
              "      <td>Still Yelling. Still Fighting. Still Ready for...</td>\n",
              "      <td>Grumpier Old Men</td>\n",
              "      <td>False</td>\n",
              "      <td>6.5</td>\n",
              "      <td>92.0</td>\n",
              "    </tr>\n",
              "    <tr>\n",
              "      <th>3</th>\n",
              "      <td>False</td>\n",
              "      <td>NaN</td>\n",
              "      <td>16000000</td>\n",
              "      <td>[{'id': 35, 'name': 'Comedy'}, {'id': 18, 'nam...</td>\n",
              "      <td>NaN</td>\n",
              "      <td>31357</td>\n",
              "      <td>tt0114885</td>\n",
              "      <td>en</td>\n",
              "      <td>Waiting to Exhale</td>\n",
              "      <td>Cheated on, mistreated and stepped on, the wom...</td>\n",
              "      <td>...</td>\n",
              "      <td>1995-12-22</td>\n",
              "      <td>81452156.0</td>\n",
              "      <td>127.0</td>\n",
              "      <td>[{'iso_639_1': 'en', 'name': 'English'}]</td>\n",
              "      <td>Released</td>\n",
              "      <td>Friends are the people who let you be yourself...</td>\n",
              "      <td>Waiting to Exhale</td>\n",
              "      <td>False</td>\n",
              "      <td>6.1</td>\n",
              "      <td>34.0</td>\n",
              "    </tr>\n",
              "    <tr>\n",
              "      <th>4</th>\n",
              "      <td>False</td>\n",
              "      <td>{'id': 96871, 'name': 'Father of the Bride Col...</td>\n",
              "      <td>0</td>\n",
              "      <td>[{'id': 35, 'name': 'Comedy'}]</td>\n",
              "      <td>NaN</td>\n",
              "      <td>11862</td>\n",
              "      <td>tt0113041</td>\n",
              "      <td>en</td>\n",
              "      <td>Father of the Bride Part II</td>\n",
              "      <td>Just when George Banks has recovered from his ...</td>\n",
              "      <td>...</td>\n",
              "      <td>1995-02-10</td>\n",
              "      <td>76578911.0</td>\n",
              "      <td>106.0</td>\n",
              "      <td>[{'iso_639_1': 'en', 'name': 'English'}]</td>\n",
              "      <td>Released</td>\n",
              "      <td>Just When His World Is Back To Normal... He's ...</td>\n",
              "      <td>Father of the Bride Part II</td>\n",
              "      <td>False</td>\n",
              "      <td>5.7</td>\n",
              "      <td>173.0</td>\n",
              "    </tr>\n",
              "  </tbody>\n",
              "</table>\n",
              "<p>5 rows × 24 columns</p>\n",
              "</div>"
            ],
            "text/plain": [
              "   adult                              belongs_to_collection    budget   \n",
              "0  False  {'id': 10194, 'name': 'Toy Story Collection', ...  30000000  \\\n",
              "1  False                                                NaN  65000000   \n",
              "2  False  {'id': 119050, 'name': 'Grumpy Old Men Collect...         0   \n",
              "3  False                                                NaN  16000000   \n",
              "4  False  {'id': 96871, 'name': 'Father of the Bride Col...         0   \n",
              "\n",
              "                                              genres   \n",
              "0  [{'id': 16, 'name': 'Animation'}, {'id': 35, '...  \\\n",
              "1  [{'id': 12, 'name': 'Adventure'}, {'id': 14, '...   \n",
              "2  [{'id': 10749, 'name': 'Romance'}, {'id': 35, ...   \n",
              "3  [{'id': 35, 'name': 'Comedy'}, {'id': 18, 'nam...   \n",
              "4                     [{'id': 35, 'name': 'Comedy'}]   \n",
              "\n",
              "                               homepage     id    imdb_id original_language   \n",
              "0  http://toystory.disney.com/toy-story    862  tt0114709                en  \\\n",
              "1                                   NaN   8844  tt0113497                en   \n",
              "2                                   NaN  15602  tt0113228                en   \n",
              "3                                   NaN  31357  tt0114885                en   \n",
              "4                                   NaN  11862  tt0113041                en   \n",
              "\n",
              "                original_title   \n",
              "0                    Toy Story  \\\n",
              "1                      Jumanji   \n",
              "2             Grumpier Old Men   \n",
              "3            Waiting to Exhale   \n",
              "4  Father of the Bride Part II   \n",
              "\n",
              "                                            overview  ... release_date   \n",
              "0  Led by Woody, Andy's toys live happily in his ...  ...   1995-10-30  \\\n",
              "1  When siblings Judy and Peter discover an encha...  ...   1995-12-15   \n",
              "2  A family wedding reignites the ancient feud be...  ...   1995-12-22   \n",
              "3  Cheated on, mistreated and stepped on, the wom...  ...   1995-12-22   \n",
              "4  Just when George Banks has recovered from his ...  ...   1995-02-10   \n",
              "\n",
              "       revenue runtime                                   spoken_languages   \n",
              "0  373554033.0    81.0           [{'iso_639_1': 'en', 'name': 'English'}]  \\\n",
              "1  262797249.0   104.0  [{'iso_639_1': 'en', 'name': 'English'}, {'iso...   \n",
              "2          0.0   101.0           [{'iso_639_1': 'en', 'name': 'English'}]   \n",
              "3   81452156.0   127.0           [{'iso_639_1': 'en', 'name': 'English'}]   \n",
              "4   76578911.0   106.0           [{'iso_639_1': 'en', 'name': 'English'}]   \n",
              "\n",
              "     status                                            tagline   \n",
              "0  Released                                                NaN  \\\n",
              "1  Released          Roll the dice and unleash the excitement!   \n",
              "2  Released  Still Yelling. Still Fighting. Still Ready for...   \n",
              "3  Released  Friends are the people who let you be yourself...   \n",
              "4  Released  Just When His World Is Back To Normal... He's ...   \n",
              "\n",
              "                         title  video vote_average vote_count  \n",
              "0                    Toy Story  False          7.7     5415.0  \n",
              "1                      Jumanji  False          6.9     2413.0  \n",
              "2             Grumpier Old Men  False          6.5       92.0  \n",
              "3            Waiting to Exhale  False          6.1       34.0  \n",
              "4  Father of the Bride Part II  False          5.7      173.0  \n",
              "\n",
              "[5 rows x 24 columns]"
            ]
          },
          "execution_count": 2,
          "metadata": {},
          "output_type": "execute_result"
        }
      ],
      "source": [
        "df_credits = pd.read_csv(\"movies_dataset.csv\")\n",
        "df_credits.head()"
      ]
    },
    {
      "cell_type": "code",
      "execution_count": null,
      "metadata": {
        "id": "fjNUa5xjw_SY"
      },
      "outputs": [],
      "source": [
        "df_credits.shape"
      ]
    },
    {
      "cell_type": "code",
      "execution_count": null,
      "metadata": {
        "id": "QOBE0QjY4D7k"
      },
      "outputs": [],
      "source": [
        "# Buscamos ver un panorama general de nuestros datos, tipo de datos, nulos,etc.\n",
        "df_credits.info()"
      ]
    },
    {
      "cell_type": "code",
      "execution_count": null,
      "metadata": {
        "id": "nrbCAEwp4KZH"
      },
      "outputs": [],
      "source": [
        "# Comenzamos con las transformaciones solicitadas. Vemos que tenemos varias columnas anidadas y debemos desanidarlas y obtener el dato necesario para\n",
        "# nuestro análisis\n",
        "\n",
        "import ast\n",
        "# Creamos la función\n",
        "def cadena_dicc_objeto(col_dic):\n",
        "    if pd.isna(col_dic):\n",
        "       return None\n",
        "    else:\n",
        "        return ast.literal_eval(str(col_dic))"
      ]
    },
    {
      "cell_type": "code",
      "execution_count": null,
      "metadata": {
        "id": "IbShSmFt4SWs"
      },
      "outputs": [],
      "source": [
        "# Método apply a función creada más arriba para que función esté aplicando correctamente a columna 'belongs_to_collection'\\\\n\\\",\\n\",\n",
        "df_credits[\"belongs_to_collection\"] = df_credits[\"belongs_to_collection\"].apply(cadena_dicc_objeto)"
      ]
    },
    {
      "cell_type": "code",
      "execution_count": null,
      "metadata": {
        "id": "NbNYUnCn4zaa"
      },
      "outputs": [],
      "source": [
        "# Cramos una nueva función para extraer el valor de \"name\" de los registros en la columna 'belongs_to_collection', utilizando la función isintance\n",
        "# para veriricar que franquicia es una instancia de la clase 'dict' , o sea si es un diccionario.\n",
        "def extraer_name(franquicia):\n",
        "    if franquicia is not None:\n",
        "       if isinstance(franquicia, dict):\n",
        "          return franquicia.get('name')\n",
        "    else:\n",
        "        return None"
      ]
    },
    {
      "cell_type": "code",
      "execution_count": null,
      "metadata": {
        "id": "bsOMlhAQ40wo"
      },
      "outputs": [],
      "source": [
        "# Hacemos un Apply a la columna \\\"belongs_to_collection\\\" y creamos una nueva columna 'franquicia_name donde se extraerán los nombres.\n",
        "df_credits['franquicia_name'] = df_credits['belongs_to_collection'].apply(extraer_name)"
      ]
    },
    {
      "cell_type": "code",
      "execution_count": null,
      "metadata": {
        "id": "12NhxvM75AkK"
      },
      "outputs": [],
      "source": [
        "df_credits.head(1)"
      ]
    },
    {
      "cell_type": "code",
      "execution_count": null,
      "metadata": {
        "id": "7sYPk7aE5HUc"
      },
      "outputs": [],
      "source": [
        "# Método apply a función creada más arriba para que función esté aplicando correctamente a columna 'genres\n",
        "df_credits[\"genres\"] = df_credits[\"genres\"].apply(cadena_dicc_objeto)"
      ]
    },
    {
      "cell_type": "code",
      "execution_count": null,
      "metadata": {
        "id": "kmJCNNwc5Qem"
      },
      "outputs": [],
      "source": [
        "# Usaré la misma función para extaer los nombre, y crearé una nueva columna donde se extraeran los nombres de los géneros\n",
        "def extraer_name(genero):\n",
        "    if genero is not None:\n",
        "       if isinstance(genero, list):\n",
        "          names = [genre['name'] for genre in genero]\n",
        "          return names\n",
        "    return None\n",
        "\n",
        "df_credits['generos'] = df_credits['genres'].apply(extraer_name)"
      ]
    },
    {
      "cell_type": "code",
      "execution_count": null,
      "metadata": {
        "id": "8pbBIHlr5Yb-"
      },
      "outputs": [],
      "source": [
        "df_credits.head(1)"
      ]
    },
    {
      "cell_type": "code",
      "execution_count": null,
      "metadata": {
        "id": "UVRFW6Yw5dP5"
      },
      "outputs": [],
      "source": [
        "# En esta columna al tener más de un género, nos devuelve los datos como una lista. Entonces creamos una nueva función para poder ver los géneros\n",
        "# unidos en una sola cadena separados por coma.\n",
        "def join_genres(genre_list):\n",
        "    if genre_list is not None and len(genre_list) > 0:\n",
        "       return ', '.join(genre_list)\n",
        "    return None\n",
        "\n",
        "df_credits['generos_name'] = df_credits['generos'].apply(join_genres)"
      ]
    },
    {
      "cell_type": "code",
      "execution_count": null,
      "metadata": {
        "id": "mGmJIzqY5lAI"
      },
      "outputs": [],
      "source": [
        "# Comprobamos que se ha creado correctamente la nueva columna\n",
        "df_credits.head(1)"
      ]
    },
    {
      "cell_type": "code",
      "execution_count": null,
      "metadata": {
        "id": "qqylaaKo5stz"
      },
      "outputs": [],
      "source": [
        "# También procederermos a obtener la nueva columnas de las productoras unidas en una sola cadena separadas por comas.\n",
        "def extraer_name(productora):\n",
        "    if productora is not None and isinstance(productora,list):\n",
        "       names = [production['name'] for production in productora]\n",
        "       return names\n",
        "    return None\n",
        "\n",
        "df_credits['productora'] = df_credits['production_companies'].apply(cadena_dicc_objeto).apply(extraer_name)"
      ]
    },
    {
      "cell_type": "code",
      "execution_count": null,
      "metadata": {
        "id": "J9W0wKXJ6Bsf"
      },
      "outputs": [],
      "source": [
        "df_credits.head(1)"
      ]
    },
    {
      "cell_type": "code",
      "execution_count": null,
      "metadata": {
        "id": "fcexFxwf7FMT"
      },
      "outputs": [],
      "source": [
        "# Usamos la función para tener las productoras en una sola cadena seperados por coma, y comprobamos\n",
        "def join_productora(productora_list):\n",
        "    if productora_list is not None and len(productora_list) > 0:\n",
        "       return ', '.join(productora_list)\n",
        "    return None\n",
        "df_credits['productoras_name'] = df_credits['productora'].apply(join_productora)\n",
        "\n",
        "df_credits.head(1)"
      ]
    },
    {
      "cell_type": "code",
      "execution_count": null,
      "metadata": {
        "id": "20D_iIcR7NlI"
      },
      "outputs": [],
      "source": [
        "# Método apply a función creada más arriba para que función esté aplicando correctamente a columna 'production_countries'\n",
        "\n",
        "\n",
        "df_credits[\"production_countries\"] = df_credits[\"production_countries\"].apply(cadena_dicc_objeto)"
      ]
    },
    {
      "cell_type": "code",
      "execution_count": null,
      "metadata": {
        "id": "TOr3WIph7UP0"
      },
      "outputs": [],
      "source": [
        "# En esta columna extraeré el nombre de los países de las productoras\n",
        "def dicc_name(countries):\n",
        "    if countries is not None:\n",
        "        if isinstance(countries, list):\n",
        "           names = [production['name'] for production in countries]\n",
        "           return names\n",
        "        return None\n",
        "df_credits['countries'] = df_credits['production_countries'].apply(dicc_name)"
      ]
    },
    {
      "cell_type": "code",
      "execution_count": null,
      "metadata": {
        "id": "ogHUPn_K7aEN"
      },
      "outputs": [],
      "source": [
        "# Creamos una función  para unir los países en una sola cadena seperados por coma y comprobamos la nueva columna\n",
        "def join_countries(paises_list):\n",
        "    if paises_list is not None and len(paises_list) > 0:\n",
        "       return ', '.join(paises_list)\n",
        "    return None\n",
        "\n",
        "df_credits['countries_name'] = df_credits['countries'].apply(join_countries)\n",
        "\n",
        "df_credits.head(1)"
      ]
    },
    {
      "cell_type": "code",
      "execution_count": null,
      "metadata": {
        "id": "Y_GqKBlOUNiR"
      },
      "outputs": [],
      "source": [
        "# Método apply a función creada más arriba para que función esté aplicando correctamente a columna 'spoken_languages'\n",
        "df_credits[\"spoken_languages\"] = df_credits[\"spoken_languages\"].apply(cadena_dicc_objeto)"
      ]
    },
    {
      "cell_type": "code",
      "execution_count": null,
      "metadata": {
        "id": "A_lnHio_US83"
      },
      "outputs": [],
      "source": [
        "# En esta columna se extrae el nombre de los idiomas\n",
        "def dicc_name(languages):\n",
        "    if languages is not None:\n",
        "       if isinstance(languages, list):\n",
        "              names = [spoken['name'] for spoken in languages]\n",
        "              return names\n",
        "    return None\n",
        "\n",
        "df_credits['languages'] = df_credits['spoken_languages'].apply(dicc_name)"
      ]
    },
    {
      "cell_type": "code",
      "execution_count": null,
      "metadata": {
        "id": "bqCdHEl_UdG9"
      },
      "outputs": [],
      "source": [
        "# Creamoos una función  para unir los idiomas en una sola cadena seperados por coma, y comprobamos nueva columna\n",
        "def join_spoken(languages_list):\n",
        "    if languages_list is not None and len(languages_list) > 0:\n",
        "        return ', '.join(languages_list)\n",
        "    return None\n",
        "\n",
        "df_credits['languages_name'] = df_credits['languages'].apply(join_spoken)\n",
        "\n",
        "df_credits.head(1)"
      ]
    },
    {
      "cell_type": "code",
      "execution_count": null,
      "metadata": {
        "id": "OOrbGD9TUkQO"
      },
      "outputs": [],
      "source": [
        "# Comprobamos los nulos de 'revenue' y 'budget'\n",
        "print('Nulos en revenue', df_credits.revenue.isna().sum())\n",
        "print('Nulos en budget', df_credits.budget.isna().sum())"
      ]
    },
    {
      "cell_type": "code",
      "execution_count": null,
      "metadata": {
        "id": "nfdtHSEsUrii"
      },
      "outputs": [],
      "source": [
        "# Sustituimos los nulos de 'revenue' y 'budget' en 0 y confirmamos. No sería necesario hacerlo con la columna 'budget' ya que no tiene valores nulos.\n",
        "df_credits['revenue'].fillna(0, inplace = True)\n",
        "df_credits['budget'].fillna(0, inplace = True)\n",
        "print('Nulos en revenue', df_credits.revenue.isna().sum())\n",
        "print('Nulos en budget', df_credits.budget.isna().sum())"
      ]
    },
    {
      "cell_type": "code",
      "execution_count": null,
      "metadata": {
        "id": "-UfDsJkpUxuN"
      },
      "outputs": [],
      "source": [
        "# También se nos pide eliminar los valores nulos de la columna 'release_date'\n",
        "df_credits1 = df_credits.dropna(subset=['release_date'])"
      ]
    },
    {
      "cell_type": "code",
      "execution_count": null,
      "metadata": {
        "id": "Dei2PD8EU3Mb"
      },
      "outputs": [],
      "source": [
        "# Confirmo que se halla  eliminadoo los nulos\n",
        "print('Nulos en release_-date', df_credits1.release_date.isna().sum())"
      ]
    },
    {
      "cell_type": "code",
      "execution_count": null,
      "metadata": {
        "id": "iXp9INv1VEPP"
      },
      "outputs": [],
      "source": [
        "# La columna release_date me estaba dando problemas a la hora de hacer la conversión  a datetime, entonces comprobé varias cosas:\n",
        "# con la función verifico si el valor es un entero y de ocho dígitos, así puede asumir una fecha de formato YYYYMMDD\n",
        "# luego intento convertir a datatime utilizando pd.to_datatime\n",
        "# El valor que no se pueda convertir, se le asignará None\n",
        "\n",
        "def clean_release_date(date_str):\n",
        "    # Compruebo si el valor es un número entero y tiene una longitud de 8 caracteres\n",
        "    if isinstance(date_str, int) and len(str(date_str)) == 8:\n",
        "        # Convierto el número entero en una cadena de fecha en formato '%Y-%m-%d'\n",
        "        date_str = str(date_str)[:4] + '-' + str(date_str)[4:6] + '-' + str(date_str)[6:]\n",
        "\n",
        "    # Pruebo convertir a tipo datetime\n",
        "    try:\n",
        "        return pd.to_datetime(date_str)\n",
        "    except:\n",
        "        return None\n",
        "\n",
        "df_credits1['release_date'] = df_credits1['release_date'].apply(clean_release_date)"
      ]
    },
    {
      "cell_type": "code",
      "execution_count": null,
      "metadata": {
        "id": "u9obSRFHVKo9"
      },
      "outputs": [],
      "source": [
        "# Intento convertir nuevamente la columna a tipo datetime\n",
        "df_credits1['release_date'] = pd.to_datetime(df_credits1['release_date'])"
      ]
    },
    {
      "cell_type": "code",
      "execution_count": null,
      "metadata": {
        "id": "BkQaFmRmVPcm"
      },
      "outputs": [],
      "source": [
        "# Al convertir la columna 'release_date, comprobamos nuevamente los nulos\n",
        "print('Nulos en release_-date', df_credits1.release_date.isna().sum())"
      ]
    },
    {
      "cell_type": "code",
      "execution_count": null,
      "metadata": {
        "id": "2reyk_n3VTTI"
      },
      "outputs": [],
      "source": [
        "# Eliminamos los nulos y confirmamos\n",
        "df_credits1['release_date'].fillna(0, inplace = True)\n",
        "print('Nulos en release_-date', df_credits1.release_date.isna().sum())"
      ]
    },
    {
      "cell_type": "code",
      "execution_count": null,
      "metadata": {
        "id": "hN46QFDXVkvL"
      },
      "outputs": [],
      "source": [
        "# Convertir la columna 'release_date' a un tipo de datos de fecha y hora\n",
        "df_credits1['release_date'] = pd.to_datetime(df_credits1['release_date'])\n",
        "# Crear una nueva columna 'release_year' con el año de la columna 'release_date'\n",
        "df_credits1['release_year'] = df_credits1['release_date'].dt.year\n",
        "\n",
        "# Mostrar el resultado\n",
        "df_credits1.head(1)"
      ]
    },
    {
      "cell_type": "code",
      "execution_count": null,
      "metadata": {
        "id": "07AET5UBVvMb"
      },
      "outputs": [],
      "source": [
        "# Elimino los caracteres numéricos de la columnas budget, antes de convertirla a tipo float, que utilizaré junto a revenue para crear la columna return\n",
        "\n",
        "import re\n",
        "\n",
        "def clean_budget_value(budget_str):\n",
        "# Eliminar cualquier carácter que no sea un dígito, punto decimal o coma\n",
        "    cleaned_value = re.sub(r'[^0-9.,]', '', str(budget_str))\n",
        "\n",
        "# Reemplazar la coma por el punto decimal (si es necesario)\n",
        "    cleaned_value = cleaned_value.replace(',', '.')\n",
        "\n",
        "# Convertir a tipo float\n",
        "    try:\n",
        "        return float(cleaned_value)\n",
        "    except:\n",
        "           return None\n",
        "\n",
        "df_credits1['budget'] = df_credits1['budget'].apply(clean_budget_value)"
      ]
    },
    {
      "cell_type": "code",
      "execution_count": null,
      "metadata": {
        "id": "aHXZroCcWHEL"
      },
      "outputs": [],
      "source": [
        "# Se nos pide calcular la columna 'return' y reemplazar los valores NaN con cero.\n",
        "df_credits1['return'] = df_credits1['revenue'] / df_credits1['budget']\n",
        "df_credits1['return'] = df_credits1['return'].fillna(0)"
      ]
    },
    {
      "cell_type": "code",
      "execution_count": null,
      "metadata": {
        "id": "RGwBUR7GWkTQ"
      },
      "outputs": [],
      "source": [
        "df_credits1.head(1)"
      ]
    },
    {
      "cell_type": "code",
      "execution_count": null,
      "metadata": {
        "id": "_FSQ0PeYWogM"
      },
      "outputs": [],
      "source": [
        "# Elimino columnas no utilizadas\n",
        "df_credits_fin = df_credits1.drop(columns = ['video','imdb_id','adult','original_title','poster_path','homepage','belongs_to_collection','genres',\n",
        "                                            'production_companies','production_countries', 'spoken_languages','generos','productora','countries','languages'])\n",
        "df_credits_fin.head(1)"
      ]
    },
    {
      "cell_type": "code",
      "execution_count": null,
      "metadata": {
        "id": "Kk_zzfLSW6ur"
      },
      "outputs": [],
      "source": [
        "# Guardamos el dataframe modificado en un nuevo csv\n",
        "df_credits_fin.to_csv('movies_dataset_final.csv', index = False)"
      ]
    },
    {
      "cell_type": "code",
      "execution_count": null,
      "metadata": {
        "id": "lsxyWMqPXDqJ"
      },
      "outputs": [],
      "source": [
        "df_fin = pd.read_csv('movies_dataset_final.csv')"
      ]
    },
    {
      "cell_type": "code",
      "execution_count": null,
      "metadata": {
        "id": "Tw-SN2wEXKoS"
      },
      "outputs": [],
      "source": [
        "df_fin.shape"
      ]
    },
    {
      "cell_type": "code",
      "execution_count": null,
      "metadata": {
        "id": "_hw4WKrpXMpj"
      },
      "outputs": [],
      "source": [
        "# Leermos el otro csv con pandas\n",
        "data_credits2= pd.read_csv('credits.csv')\n",
        "data_credits2.shape"
      ]
    },
    {
      "cell_type": "code",
      "execution_count": null,
      "metadata": {
        "id": "S8T25Ge0acfW"
      },
      "outputs": [],
      "source": [
        "data_credits2.head(2)"
      ]
    },
    {
      "cell_type": "code",
      "execution_count": null,
      "metadata": {
        "id": "oZqZ6JYPaeYa"
      },
      "outputs": [],
      "source": [
        "# Obtenemos más información de los mismos\n",
        "data_credits2.info()"
      ]
    },
    {
      "cell_type": "code",
      "execution_count": null,
      "metadata": {
        "id": "WeWf_QgXahVr"
      },
      "outputs": [],
      "source": [
        "# Quitaremos los duplicados y lo ordenaremos por la columna crew\n",
        "data_credits2[data_credits2.duplicated()].sort_values('crew')"
      ]
    },
    {
      "cell_type": "code",
      "execution_count": null,
      "metadata": {
        "id": "MW787Y2xalBS"
      },
      "outputs": [],
      "source": [
        "# Para desanidar datos de columna 'cast', debo usar una función del módulo ast para convertir el diccionario cadena a objeto para poder trabajar\n",
        "# con él.\n",
        "import ast\n",
        "\n",
        "# Usaremos la misma función que en el anterior dataset para la extracción de los datos que necesitamos\n",
        "def cadena_dicc_objeto(col_cast):\n",
        "    if pd.isna(col_cast):\n",
        "       return None\n",
        "    else:\n",
        "        return ast.literal_eval(col_cast) # función del módulo ast\""
      ]
    },
    {
      "cell_type": "code",
      "execution_count": null,
      "metadata": {
        "id": "48HdO59waoZE"
      },
      "outputs": [],
      "source": [
        "# Método apply a función creada más arriba para que función esté aplicando correctamente a columna 'cast'\n",
        "data_credits2[\"cast\"] = data_credits2[\"cast\"].apply(cadena_dicc_objeto)"
      ]
    },
    {
      "cell_type": "code",
      "execution_count": null,
      "metadata": {
        "id": "r4bOX3kfbf6n"
      },
      "outputs": [],
      "source": [
        "# Nueva función para extraer el valor de 'name' de los registros de actores en la columna 'cast'. Aquí ya aplicamos la unión de los datos em cadena\n",
        "# separados por coma directamente.\n",
        "def extract_actors(row):\n",
        "    actors = [actor['name'] for actor in row if 'name' in actor]\n",
        "    return ', '.join(actors) if actors else None\n",
        "\n",
        "data_credits2['actores'] = data_credits2['cast'].apply(extract_actors)"
      ]
    },
    {
      "cell_type": "code",
      "execution_count": null,
      "metadata": {
        "id": "xAhjD3Nfbivs"
      },
      "outputs": [],
      "source": [
        "# Comprobamos la extracción de los nombres de actores\n",
        "data_credits2.head(3)"
      ]
    },
    {
      "cell_type": "code",
      "execution_count": null,
      "metadata": {
        "id": "j111Titwblem"
      },
      "outputs": [],
      "source": [
        "data_credits2['cast'].fillna(0, inplace = True)\n",
        "print('Nulos en cast', data_credits2.cast.isna().sum())"
      ]
    },
    {
      "cell_type": "code",
      "execution_count": null,
      "metadata": {
        "id": "pVClqswPboz7"
      },
      "outputs": [],
      "source": [
        "# Vamos a trabajar la columna crew, para ello importamos la librería re\n",
        "import re    # importamos esta librería ya que la columna crew tiene muchas expresiones regulares\n",
        "\n",
        "# Definir el patrón de la expresión regular para extraer el nombre del director\n",
        "pattern = r\"'job':\\s*'Director',\\s*'name':\\s*'([^']*)'\"\n",
        "\n",
        "# Aplicar la expresión regular a cada valor de la columna 'crew' y guardar el resultado en una nueva columna 'Director'\n",
        "data_credits2['Directores'] = data_credits2['crew'].apply(lambda x: re.search(pattern, x).group(1) if re.search(pattern, x) else '')\n",
        "\n",
        "data_credits2.head(6)"
      ]
    },
    {
      "cell_type": "code",
      "execution_count": null,
      "metadata": {
        "id": "77EPt6-NbsrQ"
      },
      "outputs": [],
      "source": [
        "# Eliminamos la primera columna (col1), cast y crew\n",
        "data_credits = data_credits2.drop(columns=['cast', 'crew'])\n",
        "\n",
        "# Reordenar las columnas según tu preferencia\\n\",\n",
        "data_credits = data_credits[['id', 'actores', 'Directores']]"
      ]
    },
    {
      "cell_type": "code",
      "execution_count": null,
      "metadata": {
        "id": "VKSP4snIb4rH"
      },
      "outputs": [],
      "source": [
        "# Guardamos el nuevo dataset en un csv\n",
        "\n",
        "data_credits.to_csv('credits_ultimo2.csv')"
      ]
    },
    {
      "cell_type": "code",
      "execution_count": null,
      "metadata": {
        "id": "683AfQI_b9_U"
      },
      "outputs": [],
      "source": [
        "data_credits_final2 = pd.read_csv('credits_ultimo2.csv')"
      ]
    },
    {
      "cell_type": "code",
      "execution_count": null,
      "metadata": {
        "id": "uAhYD1O6cCt6"
      },
      "outputs": [],
      "source": [
        "data_credits_final2.head(3)"
      ]
    },
    {
      "cell_type": "code",
      "execution_count": null,
      "metadata": {
        "id": "GBMZ6QSjcEjX"
      },
      "outputs": [],
      "source": [
        "# Eliminar la columna \"Unnamed: 0\"\n",
        "data_credits_final2 = data_credits_final2.drop(\"Unnamed: 0\", axis=1)\n",
        "\n",
        "data_credits_final2.head(3)"
      ]
    },
    {
      "cell_type": "code",
      "execution_count": null,
      "metadata": {
        "id": "Y7oJwpVKcGfk"
      },
      "outputs": [],
      "source": [
        "# Hare la concatenación de los dos csv.\n",
        "# Cargar los archivos CSV\n",
        "df1 = pd.read_csv('movies_dataset_final.csv')\n",
        "df2 = pd.read_csv('credits_ultimo2.csv')"
      ]
    },
    {
      "cell_type": "code",
      "execution_count": null,
      "metadata": {
        "id": "FRmx4ogKcJ2Q"
      },
      "outputs": [],
      "source": [
        "# Concatenar los dataframes\n",
        "concatenated_df = pd.concat([df1, df2], axis=1)"
      ]
    },
    {
      "cell_type": "code",
      "execution_count": null,
      "metadata": {
        "id": "MMJTTxfXcLwU"
      },
      "outputs": [],
      "source": [
        "# Guardo el resultado en un nuevo csv\n",
        "concatenated_df.to_csv('movies_credits_2.csv', index = False)"
      ]
    },
    {
      "cell_type": "code",
      "execution_count": null,
      "metadata": {
        "id": "5vWwyxQTcOAS"
      },
      "outputs": [],
      "source": [
        "df = pd.read_csv('movies_credits_2.csv')"
      ]
    },
    {
      "cell_type": "code",
      "execution_count": null,
      "metadata": {
        "id": "HzUw_rF3cXsh"
      },
      "outputs": [],
      "source": [
        "df.shape"
      ]
    },
    {
      "cell_type": "code",
      "execution_count": null,
      "metadata": {
        "id": "AuOSDcKWcaNt"
      },
      "outputs": [],
      "source": [
        "df.head(1)"
      ]
    }
  ],
  "metadata": {
    "accelerator": "GPU",
    "colab": {
      "gpuType": "T4",
      "private_outputs": true,
      "provenance": []
    },
    "kernelspec": {
      "display_name": "Python 3",
      "name": "python3"
    },
    "language_info": {
      "codemirror_mode": {
        "name": "ipython",
        "version": 3
      },
      "file_extension": ".py",
      "mimetype": "text/x-python",
      "name": "python",
      "nbconvert_exporter": "python",
      "pygments_lexer": "ipython3",
      "version": "3.11.2"
    }
  },
  "nbformat": 4,
  "nbformat_minor": 0
}
