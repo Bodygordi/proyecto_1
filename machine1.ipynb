{
  "nbformat": 4,
  "nbformat_minor": 0,
  "metadata": {
    "colab": {
      "private_outputs": true,
      "provenance": []
    },
    "kernelspec": {
      "name": "python3",
      "display_name": "Python 3"
    },
    "language_info": {
      "name": "python"
    }
  },
  "cells": [
    {
      "cell_type": "code",
      "execution_count": null,
      "metadata": {
        "id": "RlxuFVaOl4E8"
      },
      "outputs": [],
      "source": [
        "import pandas as pd\n",
        "import numpy as np\n",
        "import seaborn as sns\n",
        "import matplotlib.pyplot as plt\n",
        "from wordcloud import WordCloud"
      ]
    },
    {
      "cell_type": "code",
      "source": [
        "# Cargo los datos de las películas\\n\",\n",
        "df = pd.read_csv('movies_dataset_final.csv', sep = ',')"
      ],
      "metadata": {
        "id": "klyCFwqnl7gV"
      },
      "execution_count": null,
      "outputs": []
    },
    {
      "cell_type": "code",
      "source": [
        "# Obtengo una lista de todos los títulos de las películas\n",
        "titulos = df['title'].fillna('').tolist()\n",
        "\n",
        "# Concateno todos los títulos en una sola cadena de texto\n",
        "texto = ' '.join(titulos)"
      ],
      "metadata": {
        "id": "cECSIQM5mN9H"
      },
      "execution_count": null,
      "outputs": []
    },
    {
      "cell_type": "code",
      "source": [
        "# Creo un objeto WordCloud con las configuraciones deseadas\n",
        "wordcloud = WordCloud(width=800, height=400, max_words=100, background_color='black').generate(texto)"
      ],
      "metadata": {
        "id": "l7A8ntbJmQ9S"
      },
      "execution_count": null,
      "outputs": []
    },
    {
      "cell_type": "code",
      "source": [
        "# Importo estas dos técnica de la librería sklearn que son usadas para modelos de recomendación de películas, la primera permite convertir texto\n",
        "# de películas en características numéricas, los algoritmos lo utlizan para calcular similitud entre películas y hacer recomendacines más precisas.\n",
        "from sklearn.feature_extraction.text import TfidfVectorizer\n",
        "from sklearn.metrics.pairwise import cosine_similarity  # mide la similitud de las películas utilizando las similitud del coseno entre sus vectores\n",
        ""
      ],
      "metadata": {
        "id": "_YTankRpnk1s"
      },
      "execution_count": null,
      "outputs": []
    },
    {
      "cell_type": "code",
      "source": [
        "df = df[['overview', 'popularity','title', 'generos_name']]"
      ],
      "metadata": {
        "id": "toMxGF-Fnmdt"
      },
      "execution_count": null,
      "outputs": []
    },
    {
      "cell_type": "code",
      "source": [
        "df.info()"
      ],
      "metadata": {
        "id": "QX7OSt41nq8B"
      },
      "execution_count": null,
      "outputs": []
    },
    {
      "cell_type": "code",
      "source": [
        "df.head(1)"
      ],
      "metadata": {
        "id": "6bBIjUFTnswq"
      },
      "execution_count": null,
      "outputs": []
    },
    {
      "cell_type": "code",
      "source": [
        "df.to_csv('movies_ml1.csv')"
      ],
      "metadata": {
        "id": "-FubRIeCnxGF"
      },
      "execution_count": null,
      "outputs": []
    },
    {
      "cell_type": "code",
      "source": [
        "df_ML1 = pd.read_csv('movies_ml1.csv')"
      ],
      "metadata": {
        "id": "asTAAviToE_w"
      },
      "execution_count": null,
      "outputs": []
    },
    {
      "cell_type": "code",
      "source": [
        "df_ML1.shape"
      ],
      "metadata": {
        "id": "jPtSSIh_oLTI"
      },
      "execution_count": null,
      "outputs": []
    },
    {
      "cell_type": "code",
      "source": [
        "\n",
        "df_ML1.info()"
      ],
      "metadata": {
        "id": "zkEl5uMSoQaW"
      },
      "execution_count": null,
      "outputs": []
    },
    {
      "cell_type": "code",
      "source": [
        "# Eliminamos las filas que contengan nulos.\n",
        "df_ML1.dropna(inplace=True)"
      ],
      "metadata": {
        "id": "PU9cGWdFoUSA"
      },
      "execution_count": null,
      "outputs": []
    },
    {
      "cell_type": "code",
      "source": [
        "# El dataset es muy grande, por lo tanto para que no nos genere error, lo achicamos\n",
        "df_subset = df_ML1.head(5000)"
      ],
      "metadata": {
        "id": "Rter5gE_oYFL"
      },
      "execution_count": null,
      "outputs": []
    },
    {
      "cell_type": "code",
      "source": [
        "# Guardamos este subconjunto en un nuevo csv, que será nuestro dataset para el modelo a crear.\n",
        "df_subset.to_csv('movies_ML_p1.csv')"
      ],
      "metadata": {
        "id": "LhFv17zwofi3"
      },
      "execution_count": null,
      "outputs": []
    },
    {
      "cell_type": "code",
      "source": [
        "# Leemos el nuevo csv\n",
        "movies_nuevo = pd.read_csv(\"movies_ML_p1.csv\")"
      ],
      "metadata": {
        "id": "2oDlathGowEQ"
      },
      "execution_count": null,
      "outputs": []
    },
    {
      "cell_type": "code",
      "source": [
        "movies_nuevo['popularity'] = movies_nuevo['popularity'].astype(float)"
      ],
      "metadata": {
        "id": "HvfbLOe0o1Di"
      },
      "execution_count": null,
      "outputs": []
    },
    {
      "cell_type": "code",
      "source": [
        "movies_nuevo.info()"
      ],
      "metadata": {
        "id": "V6r7coAao6ij"
      },
      "execution_count": null,
      "outputs": []
    },
    {
      "cell_type": "code",
      "source": [
        "# Eliminar la columna \"Unnamed: 0\"\n",
        "movies_ML = movies_nuevo.drop(\"Unnamed: 0\", axis=1)"
      ],
      "metadata": {
        "id": "yGx_T1dDo_ZZ"
      },
      "execution_count": null,
      "outputs": []
    },
    {
      "cell_type": "code",
      "source": [
        "movies_ML.head(1)"
      ],
      "metadata": {
        "id": "GCFOwT3SpIpt"
      },
      "execution_count": null,
      "outputs": []
    },
    {
      "cell_type": "code",
      "source": [
        "movies_ML = movies_ML.drop(\"Unnamed: 0.1\", axis=1)"
      ],
      "metadata": {
        "id": "tixQ4SCYpL4v"
      },
      "execution_count": null,
      "outputs": []
    },
    {
      "cell_type": "code",
      "source": [
        "movies_ML.head(1)"
      ],
      "metadata": {
        "id": "35Hi1x2lpPHd"
      },
      "execution_count": null,
      "outputs": []
    },
    {
      "cell_type": "code",
      "source": [
        "# Creo una matriz TF-IDF para el texto del título de las películas\n",
        "stopwords_custom = [\"where\",\"on\",\"the\", \"at\", \"in\", \"of\",\"and\"]  # Agrega aquí stopwords personalizados\\n\",\n",
        "tfidf = TfidfVectorizer(stop_words=stopwords_custom)\n",
        "tfidf_matrix = tfidf.fit_transform(movies_ML['title']+' '+ movies_ML['overview'])"
      ],
      "metadata": {
        "id": "jr-hEDoZpR6n"
      },
      "execution_count": null,
      "outputs": []
    },
    {
      "cell_type": "code",
      "source": [
        "from sklearn.metrics.pairwise import linear_kernel\n",
        "# Calculamos con linear_kernel la similitud del coseno entre los títulos de las películas\n",
        "cosine_similarities = linear_kernel(tfidf_matrix, tfidf_matrix)"
      ],
      "metadata": {
        "id": "EMgzPfUEpWV_"
      },
      "execution_count": null,
      "outputs": []
    },
    {
      "cell_type": "code",
      "source": [
        "def recomendacion(titulo):\n",
        "    # Verifico si el título está en el DataFrame\n",
        "    if titulo not in movies_ML['title'].values:\n",
        "       return f\"No se encontró ninguna película con el título '{titulo}'.\"\n",
        "\n",
        "    # Obtener el índice de la película con el título dado\n",
        "    indices = pd.Series(movies_ML.index, index=movies_ML['title']).drop_duplicates()\n",
        "    idx = indices[titulo]\n",
        "\n",
        "    # Obtener las puntuaciones de similitud de todas las películas con la película dada\n",
        "    sim_scores = list(enumerate(cosine_similarities[idx]))\n",
        "\n",
        "    # Ordenar las películas por puntaje de similitud en orden descendente\n",
        "    sim_scores = sorted(sim_scores, key=lambda x: x[1], reverse=True)\n",
        "\n",
        "    # Obtener los índices de las películas más similares (excluyendo la película dada)\n",
        "    sim_scores = sim_scores[1:6]  # Obtener las 5 películas más similares\n",
        "    movie_indices = [x[0] for x in sim_scores]\n",
        "\n",
        "    # Obtener los títulos de las películas más similares\n",
        "    respuesta_recomendacion = movies_ML['title'].iloc[movie_indices].tolist()\n",
        "\n",
        "    return respuesta_recomendacion\n"
      ],
      "metadata": {
        "id": "APJ_z0YupZaR"
      },
      "execution_count": null,
      "outputs": []
    },
    {
      "cell_type": "code",
      "source": [
        "titulo_pelicula = \"Nixon\"  # Ejemplo\n",
        "resultado = recomendacion(titulo_pelicula)\n",
        "print(resultado)"
      ],
      "metadata": {
        "id": "uwu2T39Kpdtd"
      },
      "execution_count": null,
      "outputs": []
    },
    {
      "cell_type": "code",
      "source": [],
      "metadata": {
        "id": "JlzJXYb_pnyL"
      },
      "execution_count": null,
      "outputs": []
    }
  ]
}